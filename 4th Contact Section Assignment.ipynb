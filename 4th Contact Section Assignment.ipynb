{
 "cells": [
  {
   "cell_type": "markdown",
   "id": "081d4ba4-1320-4635-b8d8-5b1bb15ce170",
   "metadata": {},
   "source": [
    "### Extract the data and run linear regression analysis on data"
   ]
  },
  {
   "cell_type": "markdown",
   "id": "d214b6e9-7ce4-400f-ac8f-57dd5577e512",
   "metadata": {},
   "source": [
    "### STEP 1: Import Required Libraries"
   ]
  },
  {
   "cell_type": "code",
   "execution_count": 5,
   "id": "e1826165-8f6e-4fb1-9706-abbe3258dbe1",
   "metadata": {},
   "outputs": [],
   "source": [
    "import pandas as pd\n",
    "from sklearn.linear_model import LinearRegression\n",
    "import matplotlib.pyplot as plt\n",
    "\n",
    "# Make plots display inline\n",
    "%matplotlib inline\n"
   ]
  },
  {
   "cell_type": "markdown",
   "id": "5e00390c-13af-47eb-bbb6-6a42bc943a9d",
   "metadata": {},
   "source": [
    "### STEP 2: Load the CSV File"
   ]
  },
  {
   "cell_type": "code",
   "execution_count": 8,
   "id": "3299e3f7-5772-4fc6-a935-5634079f6a63",
   "metadata": {},
   "outputs": [
    {
     "data": {
      "text/html": [
       "<div>\n",
       "<style scoped>\n",
       "    .dataframe tbody tr th:only-of-type {\n",
       "        vertical-align: middle;\n",
       "    }\n",
       "\n",
       "    .dataframe tbody tr th {\n",
       "        vertical-align: top;\n",
       "    }\n",
       "\n",
       "    .dataframe thead th {\n",
       "        text-align: right;\n",
       "    }\n",
       "</style>\n",
       "<table border=\"1\" class=\"dataframe\">\n",
       "  <thead>\n",
       "    <tr style=\"text-align: right;\">\n",
       "      <th></th>\n",
       "      <th>index</th>\n",
       "      <th>County</th>\n",
       "      <th>FIPS</th>\n",
       "      <th>Age-Adjusted Incidence Rate(Ê) - cases per 100,000</th>\n",
       "      <th>Lower 95% Confidence Interval</th>\n",
       "      <th>Upper 95% Confidence Interval</th>\n",
       "      <th>Average Annual Count</th>\n",
       "      <th>Recent Trend</th>\n",
       "      <th>Recent 5-Year Trend (ˆ) in Incidence Rates</th>\n",
       "      <th>Lower 95% Confidence Interval.1</th>\n",
       "      <th>Upper 95% Confidence Interval.1</th>\n",
       "    </tr>\n",
       "  </thead>\n",
       "  <tbody>\n",
       "    <tr>\n",
       "      <th>0</th>\n",
       "      <td>0</td>\n",
       "      <td>US (SEER+NPCR)(1,10)</td>\n",
       "      <td>0</td>\n",
       "      <td>62.4</td>\n",
       "      <td>62.3</td>\n",
       "      <td>62.6</td>\n",
       "      <td>214614</td>\n",
       "      <td>falling</td>\n",
       "      <td>-2.5</td>\n",
       "      <td>-3</td>\n",
       "      <td>-2</td>\n",
       "    </tr>\n",
       "    <tr>\n",
       "      <th>1</th>\n",
       "      <td>1</td>\n",
       "      <td>Autauga County, Alabama(6,10)</td>\n",
       "      <td>1001</td>\n",
       "      <td>74.9</td>\n",
       "      <td>65.1</td>\n",
       "      <td>85.7</td>\n",
       "      <td>43</td>\n",
       "      <td>stable</td>\n",
       "      <td>0.5</td>\n",
       "      <td>-14.9</td>\n",
       "      <td>18.6</td>\n",
       "    </tr>\n",
       "    <tr>\n",
       "      <th>2</th>\n",
       "      <td>2</td>\n",
       "      <td>Baldwin County, Alabama(6,10)</td>\n",
       "      <td>1003</td>\n",
       "      <td>66.9</td>\n",
       "      <td>62.4</td>\n",
       "      <td>71.7</td>\n",
       "      <td>170</td>\n",
       "      <td>stable</td>\n",
       "      <td>3</td>\n",
       "      <td>-10.2</td>\n",
       "      <td>18.3</td>\n",
       "    </tr>\n",
       "    <tr>\n",
       "      <th>3</th>\n",
       "      <td>3</td>\n",
       "      <td>Barbour County, Alabama(6,10)</td>\n",
       "      <td>1005</td>\n",
       "      <td>74.6</td>\n",
       "      <td>61.8</td>\n",
       "      <td>89.4</td>\n",
       "      <td>25</td>\n",
       "      <td>stable</td>\n",
       "      <td>-6.4</td>\n",
       "      <td>-18.3</td>\n",
       "      <td>7.3</td>\n",
       "    </tr>\n",
       "    <tr>\n",
       "      <th>4</th>\n",
       "      <td>4</td>\n",
       "      <td>Bibb County, Alabama(6,10)</td>\n",
       "      <td>1007</td>\n",
       "      <td>86.4</td>\n",
       "      <td>71</td>\n",
       "      <td>104.2</td>\n",
       "      <td>23</td>\n",
       "      <td>stable</td>\n",
       "      <td>-4.5</td>\n",
       "      <td>-31.4</td>\n",
       "      <td>32.9</td>\n",
       "    </tr>\n",
       "  </tbody>\n",
       "</table>\n",
       "</div>"
      ],
      "text/plain": [
       "   index                         County   FIPS  \\\n",
       "0      0           US (SEER+NPCR)(1,10)      0   \n",
       "1      1  Autauga County, Alabama(6,10)   1001   \n",
       "2      2  Baldwin County, Alabama(6,10)   1003   \n",
       "3      3  Barbour County, Alabama(6,10)   1005   \n",
       "4      4     Bibb County, Alabama(6,10)   1007   \n",
       "\n",
       "  Age-Adjusted Incidence Rate(Ê) - cases per 100,000  \\\n",
       "0                                               62.4   \n",
       "1                                               74.9   \n",
       "2                                               66.9   \n",
       "3                                               74.6   \n",
       "4                                               86.4   \n",
       "\n",
       "  Lower 95% Confidence Interval Upper 95% Confidence Interval  \\\n",
       "0                          62.3                          62.6   \n",
       "1                          65.1                          85.7   \n",
       "2                          62.4                          71.7   \n",
       "3                          61.8                          89.4   \n",
       "4                            71                         104.2   \n",
       "\n",
       "  Average Annual Count Recent Trend  \\\n",
       "0               214614      falling   \n",
       "1                   43       stable   \n",
       "2                  170       stable   \n",
       "3                   25       stable   \n",
       "4                   23       stable   \n",
       "\n",
       "  Recent 5-Year Trend (ˆ) in Incidence Rates Lower 95% Confidence Interval.1  \\\n",
       "0                                       -2.5                              -3   \n",
       "1                                        0.5                           -14.9   \n",
       "2                                          3                           -10.2   \n",
       "3                                       -6.4                           -18.3   \n",
       "4                                       -4.5                           -31.4   \n",
       "\n",
       "  Upper 95% Confidence Interval.1  \n",
       "0                              -2  \n",
       "1                            18.6  \n",
       "2                            18.3  \n",
       "3                             7.3  \n",
       "4                            32.9  "
      ]
     },
     "execution_count": 8,
     "metadata": {},
     "output_type": "execute_result"
    }
   ],
   "source": [
    "file_path = r'C:\\Users\\pc\\Desktop\\dataanalysis\\incd.csv'\n",
    "df = pd.read_csv(file_path)\n",
    "\n",
    "# Display the first few rows\n",
    "df.head()\n"
   ]
  },
  {
   "cell_type": "markdown",
   "id": "46a6ea7d-44b1-438f-a666-d02cfd3eab62",
   "metadata": {},
   "source": [
    "### STEP 3: Clean and Prepare the Data"
   ]
  },
  {
   "cell_type": "code",
   "execution_count": 9,
   "id": "3bb9e47d-9be9-4cd5-8c55-139695a15261",
   "metadata": {},
   "outputs": [
    {
     "data": {
      "text/plain": [
       "Index(['index', 'County', 'FIPS',\n",
       "       'Age-Adjusted Incidence Rate(Ê) - cases per 100,000',\n",
       "       'Lower 95% Confidence Interval', 'Upper 95% Confidence Interval',\n",
       "       'Average Annual Count', 'Recent Trend',\n",
       "       'Recent 5-Year Trend (ˆ) in Incidence Rates',\n",
       "       'Lower 95% Confidence Interval.1', 'Upper 95% Confidence Interval.1'],\n",
       "      dtype='object')"
      ]
     },
     "execution_count": 9,
     "metadata": {},
     "output_type": "execute_result"
    }
   ],
   "source": [
    "# Clean column names\n",
    "df.columns = df.columns.str.strip()\n",
    "\n",
    "# Check column names\n",
    "df.columns\n"
   ]
  },
  {
   "cell_type": "markdown",
   "id": "40d40e41-bc8d-458c-8a66-5f5a181ed853",
   "metadata": {},
   "source": [
    "### Show all actual column names"
   ]
  },
  {
   "cell_type": "code",
   "execution_count": 11,
   "id": "141de33c-10b1-45cf-9e5e-18713e6ad933",
   "metadata": {},
   "outputs": [
    {
     "data": {
      "text/plain": [
       "['index',\n",
       " 'County',\n",
       " 'FIPS',\n",
       " 'Age-Adjusted Incidence Rate(Ê) - cases per 100,000',\n",
       " 'Lower 95% Confidence Interval',\n",
       " 'Upper 95% Confidence Interval',\n",
       " 'Average Annual Count',\n",
       " 'Recent Trend',\n",
       " 'Recent 5-Year Trend (ˆ) in Incidence Rates',\n",
       " 'Lower 95% Confidence Interval.1',\n",
       " 'Upper 95% Confidence Interval.1']"
      ]
     },
     "execution_count": 11,
     "metadata": {},
     "output_type": "execute_result"
    }
   ],
   "source": [
    "df.columns.tolist()\n"
   ]
  },
  {
   "cell_type": "markdown",
   "id": "7085ddc4-bbbe-40d5-9aba-1c5647d79c46",
   "metadata": {},
   "source": [
    "### Rename / clean the column names"
   ]
  },
  {
   "cell_type": "code",
   "execution_count": 12,
   "id": "160dbd4f-127a-4f93-a43f-dd39d82b5f36",
   "metadata": {},
   "outputs": [
    {
     "data": {
      "text/plain": [
       "['index',\n",
       " 'County',\n",
       " 'FIPS',\n",
       " 'Age-Adjusted Incidence RateÊ - cases per 100000',\n",
       " 'Lower 95 Confidence Interval',\n",
       " 'Upper 95 Confidence Interval',\n",
       " 'Average Annual Count',\n",
       " 'Recent Trend',\n",
       " 'Recent 5-Year Trend ˆ in Incidence Rates',\n",
       " 'Lower 95 Confidence Interval1',\n",
       " 'Upper 95 Confidence Interval1']"
      ]
     },
     "execution_count": 12,
     "metadata": {},
     "output_type": "execute_result"
    }
   ],
   "source": [
    "# Clean the column names: strip spaces and replace weird characters\n",
    "df.columns = df.columns.str.strip().str.replace(r\"[^\\w\\s\\-]\", \"\", regex=True)\n",
    "\n",
    "# Print cleaned column names\n",
    "df.columns.tolist()\n"
   ]
  },
  {
   "cell_type": "markdown",
   "id": "3b6c2e41-6bcf-441e-8081-132fd64b5031",
   "metadata": {},
   "source": [
    "### Print the exact column names"
   ]
  },
  {
   "cell_type": "code",
   "execution_count": 22,
   "id": "ce965b53-18f7-4c3b-afbc-af4ec89c90c9",
   "metadata": {},
   "outputs": [
    {
     "name": "stdout",
     "output_type": "stream",
     "text": [
      "['index', 'County', 'FIPS', 'Age-Adjusted Incidence RateÊ - cases per 100000', 'Lower 95 Confidence Interval', 'Upper 95 Confidence Interval', 'Average Annual Count', 'Recent Trend', 'Recent 5-Year Trend ˆ in Incidence Rates', 'Lower 95 Confidence Interval1', 'Upper 95 Confidence Interval1']\n"
     ]
    }
   ],
   "source": [
    "print(df.columns.tolist())\n"
   ]
  },
  {
   "cell_type": "markdown",
   "id": "25affc30-c688-4bb3-9abb-b9e483ebab0f",
   "metadata": {},
   "source": [
    "### Drop rows with missing values"
   ]
  },
  {
   "cell_type": "code",
   "execution_count": 20,
   "id": "1be07807-984b-4dbc-a4eb-ccbcfc187795",
   "metadata": {},
   "outputs": [],
   "source": [
    "df = df.dropna(subset=['Average Annual Count', 'Age-Adjusted Incidence RateÊ - cases per 100000'])\n"
   ]
  },
  {
   "cell_type": "markdown",
   "id": "34d56bc3-fae5-45ca-a598-1b36c762bff9",
   "metadata": {},
   "source": [
    "### Run linear regression"
   ]
  },
  {
   "cell_type": "code",
   "execution_count": 21,
   "id": "6ba4be96-681d-4741-bf59-52c53821030a",
   "metadata": {},
   "outputs": [
    {
     "data": {
      "image/png": "[encoded data removed]",
      "text/plain": [
       "<Figure size 640x480 with 1 Axes>"
      ]
     },
     "metadata": {},
     "output_type": "display_data"
    },
    {
     "name": "stdout",
     "output_type": "stream",
     "text": [
      "Intercept: 69.94749637018751\n",
      "Slope: -5.0775314182621205e-05\n"
     ]
    }
   ],
   "source": [
    "from sklearn.linear_model import LinearRegression\n",
    "import matplotlib.pyplot as plt\n",
    "\n",
    "# Define features and target\n",
    "X = df[['Average Annual Count']]  # independent variable\n",
    "y = df['Age-Adjusted Incidence RateÊ - cases per 100000']  # dependent variable\n",
    "\n",
    "# Fit model\n",
    "model = LinearRegression()\n",
    "model.fit(X, y)\n",
    "\n",
    "# Predict\n",
    "y_pred = model.predict(X)\n",
    "\n",
    "# Plot\n",
    "plt.scatter(X, y, color='blue', label='Actual')\n",
    "plt.plot(X, y_pred, color='red', linewidth=2, label='Regression Line')\n",
    "plt.xlabel('Average Annual Count')\n",
    "plt.ylabel('Incidence Rate')\n",
    "plt.title('Linear Regression')\n",
    "plt.legend()\n",
    "plt.show()\n",
    "\n",
    "# Print model info\n",
    "print(f\"Intercept: {model.intercept_}\")\n",
    "print(f\"Slope: {model.coef_[0]}\")\n"
   ]
  }
 ],
 "metadata": {
  "kernelspec": {
   "display_name": "Python 3 (ipykernel)",
   "language": "python",
   "name": "python3"
  },
  "language_info": {
   "codemirror_mode": {
    "name": "ipython",
    "version": 3
   },
   "file_extension": ".py",
   "mimetype": "text/x-python",
   "name": "python",
   "nbconvert_exporter": "python",
   "pygments_lexer": "ipython3",
   "version": "3.11.0"
  }
 },
 "nbformat": 4,
 "nbformat_minor": 5
}
